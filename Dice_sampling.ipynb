{
  "nbformat": 4,
  "nbformat_minor": 0,
  "metadata": {
    "colab": {
      "name": "Dice sampling.ipynb",
      "provenance": [],
      "authorship_tag": "ABX9TyMUwYSjuaZh7M7QfE65tr/l",
      "include_colab_link": true
    },
    "kernelspec": {
      "name": "python3",
      "display_name": "Python 3"
    },
    "language_info": {
      "name": "python"
    }
  },
  "cells": [
    {
      "cell_type": "markdown",
      "metadata": {
        "id": "view-in-github",
        "colab_type": "text"
      },
      "source": [
        "<a href=\"https://colab.research.google.com/github/dewashya/Python/blob/main/Dice_sampling.ipynb\" target=\"_parent\"><img src=\"https://colab.research.google.com/assets/colab-badge.svg\" alt=\"Open In Colab\"/></a>"
      ]
    },
    {
      "cell_type": "code",
      "metadata": {
        "id": "lMbyJ3OlKO5e"
      },
      "source": [
        "import random\n",
        "x = int(input(\"No. of Dice: \"))\n",
        "y = int(input(\"No. of rolls: \"))\n",
        "def dice(x,y):\n",
        "    j=0\n",
        "    sample=()\n",
        "    for j in range(y):\n",
        "        i=0\n",
        "        print(\"\\n\")\n",
        "        print(\"( \", end=\"\")\n",
        "        for i in range(x):\n",
        "            print(random.randint(1,6), end=\" \")\n",
        "        print(\")\")\n",
        "         \n",
        "        \n",
        "dice(x,y)\n",
        "\n"
      ],
      "execution_count": null,
      "outputs": []
    }
  ]
}