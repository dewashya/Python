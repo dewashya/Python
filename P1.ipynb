{
 "cells": [
  {
   "cell_type": "markdown",
   "metadata": {},
   "source": [
    "A) Create a Program that asks the user to enter their name and their age .Print out  a message addressed to them that tells them the year that they will turn 100 year  old"
   ]
  },
  {
   "cell_type": "code",
   "execution_count": 19,
   "metadata": {},
   "outputs": [
    {
     "name": "stdout",
     "output_type": "stream",
     "text": [
      "Hello!!DEV\n",
      "you will be 100 years old in 2102\n"
     ]
    }
   ],
   "source": [
    "import datetime \r\n",
    "name=input(\"Enter your name :\") \r\n",
    "print(\"Hello!!\" +name) \r\n",
    "age=int(input(\"Enter your Age:\")) \r\n",
    "year_now=datetime.datetime.now() \r\n",
    "print(\"you will be 100 years old in \" + str(int(100-age) + int(year_now.year)))"
   ]
  },
  {
   "cell_type": "markdown",
   "metadata": {},
   "source": [
    "B)Enter The number from the user and depending on whether number is even or  odd , print out the appropriate message to the user . "
   ]
  },
  {
   "cell_type": "code",
   "execution_count": 20,
   "metadata": {},
   "outputs": [
    {
     "name": "stdout",
     "output_type": "stream",
     "text": [
      "178 is even\n"
     ]
    }
   ],
   "source": [
    "num=int(input(\"enter a number:\")) \r\n",
    "if (num%2)==0: \r\n",
    " print(\"{0} is even\".format(num))\r\n",
    "else: \r\n",
    " print(\"{0} is odd\".format(num)) "
   ]
  },
  {
   "cell_type": "markdown",
   "metadata": {},
   "source": [
    "C) Write a program to generate the Fibonacci series."
   ]
  },
  {
   "cell_type": "code",
   "execution_count": 21,
   "metadata": {},
   "outputs": [
    {
     "name": "stdout",
     "output_type": "stream",
     "text": [
      "Fibonacci sequence:\n",
      "0\n",
      "1\n",
      "1\n",
      "2\n",
      "3\n",
      "5\n",
      "8\n",
      "13\n",
      "21\n",
      "34\n"
     ]
    }
   ],
   "source": [
    "nterms = int(input(\"How many terms? \"))\r\n",
    "n1, n2 = 0, 1\r\n",
    "count = 0\r\n",
    "if nterms <= 0:\r\n",
    "   print(\"Please enter a positive integer\")\r\n",
    "# if there is only one term, return n1\r\n",
    "elif nterms == 1:\r\n",
    "   print(\"Fibonacci sequence upto\",nterms,\":\")\r\n",
    "   print(n1)\r\n",
    "# generate fibonacci sequence\r\n",
    "else:\r\n",
    "   print(\"Fibonacci sequence:\")\r\n",
    "   while count < nterms:\r\n",
    "       print(n1)\r\n",
    "       nth = n1 + n2\r\n",
    "       # update values\r\n",
    "       n1 = n2\r\n",
    "       n2 = nth\r\n",
    "       count += 1"
   ]
  },
  {
   "cell_type": "markdown",
   "metadata": {},
   "source": [
    "D) write a function that reverse the user defined value. "
   ]
  },
  {
   "cell_type": "code",
   "execution_count": 22,
   "metadata": {},
   "outputs": [
    {
     "name": "stdout",
     "output_type": "stream",
     "text": [
      "Reverse number is:  228771\n"
     ]
    }
   ],
   "source": [
    "def reverseNum(num) :\r\n",
    "    rev_num = 0\r\n",
    "    while(num) :\r\n",
    "        rem = num % 10\r\n",
    "        rev_num = rev_num* 10 + rem\r\n",
    "        num //= 10\r\n",
    "    return rev_num\r\n",
    "if __name__ == \"__main__\" :\r\n",
    "    num = int(input('Enter a number: '))\r\n",
    "    print('Reverse number is: ', reverseNum(num))"
   ]
  },
  {
   "cell_type": "markdown",
   "metadata": {},
   "source": [
    "E) Write a function to check the input value is Armstrong or not. "
   ]
  },
  {
   "cell_type": "code",
   "execution_count": 23,
   "metadata": {},
   "outputs": [
    {
     "name": "stdout",
     "output_type": "stream",
     "text": [
      "1278 is not an Armstrong number\n"
     ]
    }
   ],
   "source": [
    "num = int(input(\"Enter a number: \"))  \r\n",
    "sum = 0  \r\n",
    "temp = num  \r\n",
    "while temp > 0:  \r\n",
    "   digit = temp % 10  \r\n",
    "   sum += digit ** 3  \r\n",
    "   temp //= 10  \r\n",
    "if num == sum:  \r\n",
    "   print(num,\"is an Armstrong number\")  \r\n",
    "else:  \r\n",
    "   print(num,\"is not an Armstrong number\")  "
   ]
  },
  {
   "cell_type": "markdown",
   "metadata": {},
   "source": [
    "E) 2) Write a function to check the input value is palindrome  "
   ]
  },
  {
   "cell_type": "code",
   "execution_count": 24,
   "metadata": {},
   "outputs": [
    {
     "name": "stdout",
     "output_type": "stream",
     "text": [
      "The number isn't a palindrome!\n"
     ]
    }
   ],
   "source": [
    "n=int(input(\"Enter number:\")) \r\n",
    "temp=n \r\n",
    "rev=0 \r\n",
    "while(n>0): \r\n",
    " dig=n%10 \r\n",
    " rev=rev*10+dig \r\n",
    " n=n//10 \r\n",
    "if(temp==rev): \r\n",
    " print(\"The number is a palindrome!\") \r\n",
    "else: \r\n",
    " print(\"The number isn't a palindrome!\") "
   ]
  },
  {
   "cell_type": "markdown",
   "metadata": {},
   "source": [
    "F) write python program to find the factorial of a number using "
   ]
  },
  {
   "cell_type": "code",
   "execution_count": 27,
   "metadata": {},
   "outputs": [
    {
     "name": "stdout",
     "output_type": "stream",
     "text": [
      "The factorial of 4 is 24\n"
     ]
    }
   ],
   "source": [
    "num = int(input(\"Enter a number: \"))    \r\n",
    "factorial = 1    \r\n",
    "if num < 0:    \r\n",
    "   print(\" Factorial does not exist for negative numbers\")    \r\n",
    "elif num == 0:    \r\n",
    "   print(\"The factorial of 0 is 1\")    \r\n",
    "else:    \r\n",
    "   for i in range(1,num + 1):    \r\n",
    "       factorial = factorial*i    \r\n",
    "   print(\"The factorial of\",num,\"is\",factorial)    "
   ]
  }
 ],
 "metadata": {
  "interpreter": {
   "hash": "8aad4731082f0b9703a315f5f6dd34bc9672b871d662a93761b9d5efad769fe2"
  },
  "kernelspec": {
   "display_name": "Python 3.9.4 32-bit",
   "name": "python3"
  },
  "language_info": {
   "codemirror_mode": {
    "name": "ipython",
    "version": 3
   },
   "file_extension": ".py",
   "mimetype": "text/x-python",
   "name": "python",
   "nbconvert_exporter": "python",
   "pygments_lexer": "ipython3",
   "version": "3.9.4"
  },
  "orig_nbformat": 4
 },
 "nbformat": 4,
 "nbformat_minor": 2
}