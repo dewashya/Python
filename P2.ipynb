{
 "cells": [
  {
   "cell_type": "markdown",
   "metadata": {},
   "source": [
    "1. Create one data frame with Name “StudentData” with columns Roll No, Name, total marks, percentage, grade with minimum 20 random records."
   ]
  },
  {
   "cell_type": "code",
   "execution_count": 2,
   "metadata": {},
   "outputs": [
    {
     "data": {
      "text/html": [
       "<div>\n",
       "<style scoped>\n",
       "    .dataframe tbody tr th:only-of-type {\n",
       "        vertical-align: middle;\n",
       "    }\n",
       "\n",
       "    .dataframe tbody tr th {\n",
       "        vertical-align: top;\n",
       "    }\n",
       "\n",
       "    .dataframe thead th {\n",
       "        text-align: right;\n",
       "    }\n",
       "</style>\n",
       "<table border=\"1\" class=\"dataframe\">\n",
       "  <thead>\n",
       "    <tr style=\"text-align: right;\">\n",
       "      <th></th>\n",
       "      <th>Roll No</th>\n",
       "      <th>Name</th>\n",
       "      <th>Total Marks</th>\n",
       "      <th>Percentage</th>\n",
       "      <th>Grade</th>\n",
       "    </tr>\n",
       "  </thead>\n",
       "  <tbody>\n",
       "    <tr>\n",
       "      <th>0</th>\n",
       "      <td>183</td>\n",
       "      <td>Ptolemy Carson</td>\n",
       "      <td>600</td>\n",
       "      <td>100.000000</td>\n",
       "      <td>O</td>\n",
       "    </tr>\n",
       "    <tr>\n",
       "      <th>1</th>\n",
       "      <td>196</td>\n",
       "      <td>Kezia Lovell</td>\n",
       "      <td>599</td>\n",
       "      <td>99.833333</td>\n",
       "      <td>A+</td>\n",
       "    </tr>\n",
       "    <tr>\n",
       "      <th>2</th>\n",
       "      <td>181</td>\n",
       "      <td>Colette Vinson</td>\n",
       "      <td>570</td>\n",
       "      <td>95.000000</td>\n",
       "      <td>A+</td>\n",
       "    </tr>\n",
       "    <tr>\n",
       "      <th>3</th>\n",
       "      <td>182</td>\n",
       "      <td>Antony Irvine</td>\n",
       "      <td>561</td>\n",
       "      <td>93.500000</td>\n",
       "      <td>A+</td>\n",
       "    </tr>\n",
       "    <tr>\n",
       "      <th>4</th>\n",
       "      <td>155</td>\n",
       "      <td>Lorna Reader</td>\n",
       "      <td>529</td>\n",
       "      <td>88.166667</td>\n",
       "      <td>A</td>\n",
       "    </tr>\n",
       "    <tr>\n",
       "      <th>5</th>\n",
       "      <td>103</td>\n",
       "      <td>Humphrey Murillo</td>\n",
       "      <td>526</td>\n",
       "      <td>87.666667</td>\n",
       "      <td>A</td>\n",
       "    </tr>\n",
       "    <tr>\n",
       "      <th>6</th>\n",
       "      <td>158</td>\n",
       "      <td>Trinity Noble</td>\n",
       "      <td>520</td>\n",
       "      <td>86.666667</td>\n",
       "      <td>A</td>\n",
       "    </tr>\n",
       "    <tr>\n",
       "      <th>7</th>\n",
       "      <td>149</td>\n",
       "      <td>Viola Molina</td>\n",
       "      <td>441</td>\n",
       "      <td>73.500000</td>\n",
       "      <td>B+</td>\n",
       "    </tr>\n",
       "    <tr>\n",
       "      <th>8</th>\n",
       "      <td>104</td>\n",
       "      <td>Keisha Stevens</td>\n",
       "      <td>436</td>\n",
       "      <td>72.666667</td>\n",
       "      <td>B+</td>\n",
       "    </tr>\n",
       "    <tr>\n",
       "      <th>9</th>\n",
       "      <td>145</td>\n",
       "      <td>Kate Chung</td>\n",
       "      <td>428</td>\n",
       "      <td>71.333333</td>\n",
       "      <td>B+</td>\n",
       "    </tr>\n",
       "    <tr>\n",
       "      <th>10</th>\n",
       "      <td>164</td>\n",
       "      <td>Giacomo Rowland</td>\n",
       "      <td>426</td>\n",
       "      <td>71.000000</td>\n",
       "      <td>B+</td>\n",
       "    </tr>\n",
       "    <tr>\n",
       "      <th>11</th>\n",
       "      <td>130</td>\n",
       "      <td>Yousaf Garner</td>\n",
       "      <td>413</td>\n",
       "      <td>68.833333</td>\n",
       "      <td>B</td>\n",
       "    </tr>\n",
       "    <tr>\n",
       "      <th>12</th>\n",
       "      <td>129</td>\n",
       "      <td>Vinnie Fletcher</td>\n",
       "      <td>371</td>\n",
       "      <td>61.833333</td>\n",
       "      <td>B</td>\n",
       "    </tr>\n",
       "    <tr>\n",
       "      <th>13</th>\n",
       "      <td>176</td>\n",
       "      <td>Raj Riley</td>\n",
       "      <td>371</td>\n",
       "      <td>61.833333</td>\n",
       "      <td>B</td>\n",
       "    </tr>\n",
       "    <tr>\n",
       "      <th>14</th>\n",
       "      <td>138</td>\n",
       "      <td>Nahla Lawrence</td>\n",
       "      <td>320</td>\n",
       "      <td>53.333333</td>\n",
       "      <td>C</td>\n",
       "    </tr>\n",
       "    <tr>\n",
       "      <th>15</th>\n",
       "      <td>117</td>\n",
       "      <td>Lilith Boyer</td>\n",
       "      <td>303</td>\n",
       "      <td>50.500000</td>\n",
       "      <td>C</td>\n",
       "    </tr>\n",
       "    <tr>\n",
       "      <th>16</th>\n",
       "      <td>101</td>\n",
       "      <td>Wilf Iles</td>\n",
       "      <td>290</td>\n",
       "      <td>48.333333</td>\n",
       "      <td>C</td>\n",
       "    </tr>\n",
       "    <tr>\n",
       "      <th>17</th>\n",
       "      <td>125</td>\n",
       "      <td>Patrycja Amos</td>\n",
       "      <td>267</td>\n",
       "      <td>44.500000</td>\n",
       "      <td>C</td>\n",
       "    </tr>\n",
       "    <tr>\n",
       "      <th>18</th>\n",
       "      <td>163</td>\n",
       "      <td>Brittney Dennis</td>\n",
       "      <td>223</td>\n",
       "      <td>37.166667</td>\n",
       "      <td>F</td>\n",
       "    </tr>\n",
       "    <tr>\n",
       "      <th>19</th>\n",
       "      <td>142</td>\n",
       "      <td>Keanu Byers</td>\n",
       "      <td>206</td>\n",
       "      <td>34.333333</td>\n",
       "      <td>F</td>\n",
       "    </tr>\n",
       "    <tr>\n",
       "      <th>20</th>\n",
       "      <td>161</td>\n",
       "      <td>Karan Gallagher</td>\n",
       "      <td>193</td>\n",
       "      <td>32.166667</td>\n",
       "      <td>F</td>\n",
       "    </tr>\n",
       "    <tr>\n",
       "      <th>21</th>\n",
       "      <td>134</td>\n",
       "      <td>Keyaan Cullen</td>\n",
       "      <td>147</td>\n",
       "      <td>24.500000</td>\n",
       "      <td>F</td>\n",
       "    </tr>\n",
       "  </tbody>\n",
       "</table>\n",
       "</div>"
      ],
      "text/plain": [
       "    Roll No              Name  Total Marks  Percentage Grade\n",
       "0       183    Ptolemy Carson          600  100.000000     O\n",
       "1       196      Kezia Lovell          599   99.833333    A+\n",
       "2       181    Colette Vinson          570   95.000000    A+\n",
       "3       182     Antony Irvine          561   93.500000    A+\n",
       "4       155      Lorna Reader          529   88.166667     A\n",
       "5       103  Humphrey Murillo          526   87.666667     A\n",
       "6       158     Trinity Noble          520   86.666667     A\n",
       "7       149      Viola Molina          441   73.500000    B+\n",
       "8       104    Keisha Stevens          436   72.666667    B+\n",
       "9       145        Kate Chung          428   71.333333    B+\n",
       "10      164   Giacomo Rowland          426   71.000000    B+\n",
       "11      130     Yousaf Garner          413   68.833333     B\n",
       "12      129   Vinnie Fletcher          371   61.833333     B\n",
       "13      176         Raj Riley          371   61.833333     B\n",
       "14      138    Nahla Lawrence          320   53.333333     C\n",
       "15      117      Lilith Boyer          303   50.500000     C\n",
       "16      101         Wilf Iles          290   48.333333     C\n",
       "17      125     Patrycja Amos          267   44.500000     C\n",
       "18      163   Brittney Dennis          223   37.166667     F\n",
       "19      142       Keanu Byers          206   34.333333     F\n",
       "20      161   Karan Gallagher          193   32.166667     F\n",
       "21      134     Keyaan Cullen          147   24.500000     F"
      ]
     },
     "execution_count": 2,
     "metadata": {},
     "output_type": "execute_result"
    }
   ],
   "source": [
    "import pandas as pd\r\n",
    "# Using Dictonary Method to create dataframe.\r\n",
    "# Created the dictonary values by using online random name generator and number generator;\r\n",
    "# Then by using Excel found out the percentage and grades.\r\n",
    "StudentData={\r\n",
    "'Roll No': [183,196,181,182,155,103,158,149,104,145,164,130,129,176,138,117,101,125,163,142,161,134],\r\n",
    " \r\n",
    "'Name': ['Ptolemy Carson','Kezia Lovell','Colette Vinson','Antony Irvine','Lorna Reader','Humphrey Murillo',\r\n",
    " 'Trinity Noble','Viola Molina','Keisha Stevens','Kate Chung','Giacomo Rowland','Yousaf Garner','Vinnie Fletcher',\r\n",
    " 'Raj Riley','Nahla Lawrence','Lilith Boyer','Wilf Iles','Patrycja Amos','Brittney Dennis','Keanu Byers',\r\n",
    " 'Karan Gallagher','Keyaan Cullen'],\r\n",
    " \r\n",
    "'Total Marks':[600,599,570,561,529,526,520,441,436,428,426,413,371,371,320,303,290,267,223,206,193,147],\r\n",
    " \r\n",
    "'Percentage':[100,99.83333333,95,93.5,88.16666667,87.66666667,86.66666667,73.5,72.66666667,71.33333333,71,68.83333333,\r\n",
    " 61.83333333,61.83333333,53.33333333,50.5,48.33333333,44.5,37.16666667,34.33333333,32.16666667,24.5],\r\n",
    " \r\n",
    "'Grade' : ['O','A+','A+','A+','A','A','A','B+','B+','B+','B+','B','B','B','C','C','C','C','F','F','F','F',]\r\n",
    " \r\n",
    "}\r\n",
    "# Creating dataframe of the dictonary.\r\n",
    "df = pd.DataFrame(StudentData);df"
   ]
  },
  {
   "cell_type": "markdown",
   "metadata": {},
   "source": [
    "2. Convert This data frame in csv format."
   ]
  },
  {
   "cell_type": "code",
   "execution_count": 3,
   "metadata": {},
   "outputs": [
    {
     "data": {
      "text/html": [
       "<div>\n",
       "<style scoped>\n",
       "    .dataframe tbody tr th:only-of-type {\n",
       "        vertical-align: middle;\n",
       "    }\n",
       "\n",
       "    .dataframe tbody tr th {\n",
       "        vertical-align: top;\n",
       "    }\n",
       "\n",
       "    .dataframe thead th {\n",
       "        text-align: right;\n",
       "    }\n",
       "</style>\n",
       "<table border=\"1\" class=\"dataframe\">\n",
       "  <thead>\n",
       "    <tr style=\"text-align: right;\">\n",
       "      <th></th>\n",
       "      <th>Roll No</th>\n",
       "      <th>Name</th>\n",
       "      <th>Total Marks</th>\n",
       "      <th>Percentage</th>\n",
       "      <th>Grade</th>\n",
       "    </tr>\n",
       "  </thead>\n",
       "  <tbody>\n",
       "    <tr>\n",
       "      <th>0</th>\n",
       "      <td>183</td>\n",
       "      <td>Ptolemy Carson</td>\n",
       "      <td>600</td>\n",
       "      <td>100.000000</td>\n",
       "      <td>O</td>\n",
       "    </tr>\n",
       "    <tr>\n",
       "      <th>1</th>\n",
       "      <td>196</td>\n",
       "      <td>Kezia Lovell</td>\n",
       "      <td>599</td>\n",
       "      <td>99.833333</td>\n",
       "      <td>A+</td>\n",
       "    </tr>\n",
       "    <tr>\n",
       "      <th>2</th>\n",
       "      <td>181</td>\n",
       "      <td>Colette Vinson</td>\n",
       "      <td>570</td>\n",
       "      <td>95.000000</td>\n",
       "      <td>A+</td>\n",
       "    </tr>\n",
       "    <tr>\n",
       "      <th>3</th>\n",
       "      <td>182</td>\n",
       "      <td>Antony Irvine</td>\n",
       "      <td>561</td>\n",
       "      <td>93.500000</td>\n",
       "      <td>A+</td>\n",
       "    </tr>\n",
       "    <tr>\n",
       "      <th>4</th>\n",
       "      <td>155</td>\n",
       "      <td>Lorna Reader</td>\n",
       "      <td>529</td>\n",
       "      <td>88.166667</td>\n",
       "      <td>A</td>\n",
       "    </tr>\n",
       "    <tr>\n",
       "      <th>5</th>\n",
       "      <td>103</td>\n",
       "      <td>Humphrey Murillo</td>\n",
       "      <td>526</td>\n",
       "      <td>87.666667</td>\n",
       "      <td>A</td>\n",
       "    </tr>\n",
       "    <tr>\n",
       "      <th>6</th>\n",
       "      <td>158</td>\n",
       "      <td>Trinity Noble</td>\n",
       "      <td>520</td>\n",
       "      <td>86.666667</td>\n",
       "      <td>A</td>\n",
       "    </tr>\n",
       "    <tr>\n",
       "      <th>7</th>\n",
       "      <td>149</td>\n",
       "      <td>Viola Molina</td>\n",
       "      <td>441</td>\n",
       "      <td>73.500000</td>\n",
       "      <td>B+</td>\n",
       "    </tr>\n",
       "    <tr>\n",
       "      <th>8</th>\n",
       "      <td>104</td>\n",
       "      <td>Keisha Stevens</td>\n",
       "      <td>436</td>\n",
       "      <td>72.666667</td>\n",
       "      <td>B+</td>\n",
       "    </tr>\n",
       "    <tr>\n",
       "      <th>9</th>\n",
       "      <td>145</td>\n",
       "      <td>Kate Chung</td>\n",
       "      <td>428</td>\n",
       "      <td>71.333333</td>\n",
       "      <td>B+</td>\n",
       "    </tr>\n",
       "    <tr>\n",
       "      <th>10</th>\n",
       "      <td>164</td>\n",
       "      <td>Giacomo Rowland</td>\n",
       "      <td>426</td>\n",
       "      <td>71.000000</td>\n",
       "      <td>B+</td>\n",
       "    </tr>\n",
       "    <tr>\n",
       "      <th>11</th>\n",
       "      <td>130</td>\n",
       "      <td>Yousaf Garner</td>\n",
       "      <td>413</td>\n",
       "      <td>68.833333</td>\n",
       "      <td>B</td>\n",
       "    </tr>\n",
       "    <tr>\n",
       "      <th>12</th>\n",
       "      <td>129</td>\n",
       "      <td>Vinnie Fletcher</td>\n",
       "      <td>371</td>\n",
       "      <td>61.833333</td>\n",
       "      <td>B</td>\n",
       "    </tr>\n",
       "    <tr>\n",
       "      <th>13</th>\n",
       "      <td>176</td>\n",
       "      <td>Raj Riley</td>\n",
       "      <td>371</td>\n",
       "      <td>61.833333</td>\n",
       "      <td>B</td>\n",
       "    </tr>\n",
       "    <tr>\n",
       "      <th>14</th>\n",
       "      <td>138</td>\n",
       "      <td>Nahla Lawrence</td>\n",
       "      <td>320</td>\n",
       "      <td>53.333333</td>\n",
       "      <td>C</td>\n",
       "    </tr>\n",
       "    <tr>\n",
       "      <th>15</th>\n",
       "      <td>117</td>\n",
       "      <td>Lilith Boyer</td>\n",
       "      <td>303</td>\n",
       "      <td>50.500000</td>\n",
       "      <td>C</td>\n",
       "    </tr>\n",
       "    <tr>\n",
       "      <th>16</th>\n",
       "      <td>101</td>\n",
       "      <td>Wilf Iles</td>\n",
       "      <td>290</td>\n",
       "      <td>48.333333</td>\n",
       "      <td>C</td>\n",
       "    </tr>\n",
       "    <tr>\n",
       "      <th>17</th>\n",
       "      <td>125</td>\n",
       "      <td>Patrycja Amos</td>\n",
       "      <td>267</td>\n",
       "      <td>44.500000</td>\n",
       "      <td>C</td>\n",
       "    </tr>\n",
       "    <tr>\n",
       "      <th>18</th>\n",
       "      <td>163</td>\n",
       "      <td>Brittney Dennis</td>\n",
       "      <td>223</td>\n",
       "      <td>37.166667</td>\n",
       "      <td>F</td>\n",
       "    </tr>\n",
       "    <tr>\n",
       "      <th>19</th>\n",
       "      <td>142</td>\n",
       "      <td>Keanu Byers</td>\n",
       "      <td>206</td>\n",
       "      <td>34.333333</td>\n",
       "      <td>F</td>\n",
       "    </tr>\n",
       "    <tr>\n",
       "      <th>20</th>\n",
       "      <td>161</td>\n",
       "      <td>Karan Gallagher</td>\n",
       "      <td>193</td>\n",
       "      <td>32.166667</td>\n",
       "      <td>F</td>\n",
       "    </tr>\n",
       "    <tr>\n",
       "      <th>21</th>\n",
       "      <td>134</td>\n",
       "      <td>Keyaan Cullen</td>\n",
       "      <td>147</td>\n",
       "      <td>24.500000</td>\n",
       "      <td>F</td>\n",
       "    </tr>\n",
       "  </tbody>\n",
       "</table>\n",
       "</div>"
      ],
      "text/plain": [
       "    Roll No              Name  Total Marks  Percentage Grade\n",
       "0       183    Ptolemy Carson          600  100.000000     O\n",
       "1       196      Kezia Lovell          599   99.833333    A+\n",
       "2       181    Colette Vinson          570   95.000000    A+\n",
       "3       182     Antony Irvine          561   93.500000    A+\n",
       "4       155      Lorna Reader          529   88.166667     A\n",
       "5       103  Humphrey Murillo          526   87.666667     A\n",
       "6       158     Trinity Noble          520   86.666667     A\n",
       "7       149      Viola Molina          441   73.500000    B+\n",
       "8       104    Keisha Stevens          436   72.666667    B+\n",
       "9       145        Kate Chung          428   71.333333    B+\n",
       "10      164   Giacomo Rowland          426   71.000000    B+\n",
       "11      130     Yousaf Garner          413   68.833333     B\n",
       "12      129   Vinnie Fletcher          371   61.833333     B\n",
       "13      176         Raj Riley          371   61.833333     B\n",
       "14      138    Nahla Lawrence          320   53.333333     C\n",
       "15      117      Lilith Boyer          303   50.500000     C\n",
       "16      101         Wilf Iles          290   48.333333     C\n",
       "17      125     Patrycja Amos          267   44.500000     C\n",
       "18      163   Brittney Dennis          223   37.166667     F\n",
       "19      142       Keanu Byers          206   34.333333     F\n",
       "20      161   Karan Gallagher          193   32.166667     F\n",
       "21      134     Keyaan Cullen          147   24.500000     F"
      ]
     },
     "execution_count": 3,
     "metadata": {},
     "output_type": "execute_result"
    }
   ],
   "source": [
    "# Converting the data frame in csv format.\r\n",
    "df.to_csv()\r\n",
    "df"
   ]
  },
  {
   "cell_type": "markdown",
   "metadata": {},
   "source": [
    "3. Calculate mean, median, mode for total marks."
   ]
  },
  {
   "cell_type": "code",
   "execution_count": 4,
   "metadata": {},
   "outputs": [
    {
     "data": {
      "text/plain": [
       "397.27272727272725"
      ]
     },
     "execution_count": 4,
     "metadata": {},
     "output_type": "execute_result"
    }
   ],
   "source": [
    "# Mean of Total Marks\r\n",
    "Mean_3 = df['Total Marks'].mean()\r\n",
    "Mean_3"
   ]
  },
  {
   "cell_type": "code",
   "execution_count": 5,
   "metadata": {},
   "outputs": [
    {
     "data": {
      "text/plain": [
       "419.5"
      ]
     },
     "execution_count": 5,
     "metadata": {},
     "output_type": "execute_result"
    }
   ],
   "source": [
    "# Median of Total Marks\r\n",
    "Median_3 = df['Total Marks'].median()\r\n",
    "Median_3"
   ]
  },
  {
   "cell_type": "code",
   "execution_count": 6,
   "metadata": {},
   "outputs": [
    {
     "data": {
      "text/plain": [
       "0    371\n",
       "dtype: int64"
      ]
     },
     "execution_count": 6,
     "metadata": {},
     "output_type": "execute_result"
    }
   ],
   "source": [
    "# Mode of Total Marks\r\n",
    "Mode_3 = df['Total Marks'].mode()\r\n",
    "Mode_3"
   ]
  },
  {
   "cell_type": "markdown",
   "metadata": {},
   "source": [
    "4. Calculate standard deviation and variance for percentage column."
   ]
  },
  {
   "cell_type": "code",
   "execution_count": 11,
   "metadata": {},
   "outputs": [
    {
     "data": {
      "text/plain": [
       "23.25623212956391"
      ]
     },
     "execution_count": 11,
     "metadata": {},
     "output_type": "execute_result"
    }
   ],
   "source": [
    "# Standard Deviation of Percentage of students.\r\n",
    "SD_4 = df[\"Percentage\"].std()\r\n",
    "SD_4"
   ]
  },
  {
   "cell_type": "code",
   "execution_count": 12,
   "metadata": {},
   "outputs": [
    {
     "data": {
      "text/plain": [
       "540.8523328641606"
      ]
     },
     "execution_count": 12,
     "metadata": {},
     "output_type": "execute_result"
    }
   ],
   "source": [
    "# Variance of Percentage of students.\r\n",
    "var_4 = df[\"Percentage\"].var()\r\n",
    "var_4"
   ]
  },
  {
   "cell_type": "markdown",
   "metadata": {},
   "source": [
    "5. Draw scatter plot for grades."
   ]
  },
  {
   "cell_type": "code",
   "execution_count": 8,
   "metadata": {},
   "outputs": [
    {
     "name": "stderr",
     "output_type": "stream",
     "text": [
      "Matplotlib is building the font cache; this may take a moment.\n"
     ]
    },
    {
     "data": {
      "text/plain": [
       "Text(0.5, 1.0, 'Scatter plot for Grades')"
      ]
     },
     "execution_count": 8,
     "metadata": {},
     "output_type": "execute_result"
    },
    {
     "data": {
      "image/png": "[encoded data removed]",
      "text/plain": [
       "<Figure size 432x288 with 1 Axes>"
      ]
     },
     "metadata": {
      "needs_background": "light"
     },
     "output_type": "display_data"
    }
   ],
   "source": [
    "# Defining X and Y variables for the scatter plot; using get() function to extract the values of respective keys\r\n",
    "X = StudentData.get(\"Grade\")\r\n",
    "Y = StudentData.get(\"Percentage\")\r\n",
    "# Importing matplotlib package and its pyplot function for plotting Scatter plot here.\r\n",
    "import matplotlib.pyplot as plt\r\n",
    "plt.scatter(X, Y, c =\"gold\",marker =\".\") \r\n",
    "# Adding Title and Labels on axis.\r\n",
    "plt.xlabel(\"Grade\")\r\n",
    "plt.ylabel(\"Percentage\")\r\n",
    "plt.title(\"Scatter plot for Grades\")"
   ]
  },
  {
   "cell_type": "markdown",
   "metadata": {},
   "source": [
    "6. Draw histogram with student name with total marks."
   ]
  },
  {
   "cell_type": "code",
   "execution_count": 9,
   "metadata": {},
   "outputs": [
    {
     "data": {
      "text/plain": [
       "Text(0.5, 1.0, 'Histogram for Total Marks')"
      ]
     },
     "execution_count": 9,
     "metadata": {},
     "output_type": "execute_result"
    },
    {
     "data": {
      "image/png": "[encoded data removed]",
      "text/plain": [
       "<Figure size 432x288 with 1 Axes>"
      ]
     },
     "metadata": {
      "needs_background": "light"
     },
     "output_type": "display_data"
    }
   ],
   "source": [
    "x = StudentData.get(\"Total Marks\")\r\n",
    "# Using hist() function for plotting histogram.\r\n",
    "plt.hist(x,color=\"orange\",bins=7,rwidth=0.972) \r\n",
    "# Adding Title and Labels on axis.\r\n",
    "plt.xlabel(\"Total Marks\")\r\n",
    "plt.ylabel(\"Number of Students\")\r\n",
    "plt.title(\"Histogram for Total Marks\")"
   ]
  },
  {
   "cell_type": "markdown",
   "metadata": {},
   "source": [
    "7. Draw bar chart for suitable data."
   ]
  },
  {
   "cell_type": "code",
   "execution_count": 10,
   "metadata": {},
   "outputs": [
    {
     "data": {
      "text/plain": [
       "Text(0.5, 0, 'Total Marks ')"
      ]
     },
     "execution_count": 10,
     "metadata": {},
     "output_type": "execute_result"
    },
    {
     "data": {
      "image/png": "[encoded data removed]",
      "text/plain": [
       "<Figure size 432x288 with 1 Axes>"
      ]
     },
     "metadata": {
      "needs_background": "light"
     },
     "output_type": "display_data"
    }
   ],
   "source": [
    "A = StudentData.get(\"Name\")\r\n",
    "B = StudentData.get(\"Total Marks\")\r\n",
    "# Using barh() function for plotting horizontal bar chart.\r\n",
    "plt.barh(A,B,0.5,color=\"g\")\r\n",
    "# Adding Title and Labels on axis.\r\n",
    "plt.title(\"Bar Chart of Total Marks of Students\")\r\n",
    "plt.ylabel(\"Student's Name\")\r\n",
    "plt.xlabel(\"Total Marks \")"
   ]
  }
 ],
 "metadata": {
  "interpreter": {
   "hash": "8aad4731082f0b9703a315f5f6dd34bc9672b871d662a93761b9d5efad769fe2"
  },
  "kernelspec": {
   "display_name": "Python 3.9.4 32-bit",
   "name": "python3"
  },
  "language_info": {
   "codemirror_mode": {
    "name": "ipython",
    "version": 3
   },
   "file_extension": ".py",
   "mimetype": "text/x-python",
   "name": "python",
   "nbconvert_exporter": "python",
   "pygments_lexer": "ipython3",
   "version": "3.9.4"
  },
  "orig_nbformat": 4
 },
 "nbformat": 4,
 "nbformat_minor": 2
}