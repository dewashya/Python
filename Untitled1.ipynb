{
  "nbformat": 4,
  "nbformat_minor": 0,
  "metadata": {
    "colab": {
      "name": "Untitled1.ipynb",
      "provenance": [],
      "authorship_tag": "ABX9TyPu6UUv22kto5esiSKyv+pQ",
      "include_colab_link": true
    },
    "kernelspec": {
      "name": "python3",
      "display_name": "Python 3"
    },
    "language_info": {
      "name": "python"
    }
  },
  "cells": [
    {
      "cell_type": "markdown",
      "metadata": {
        "id": "view-in-github",
        "colab_type": "text"
      },
      "source": [
        "<a href=\"https://colab.research.google.com/github/dewashya/Python/blob/main/Untitled1.ipynb\" target=\"_parent\"><img src=\"https://colab.research.google.com/assets/colab-badge.svg\" alt=\"Open In Colab\"/></a>"
      ]
    },
    {
      "cell_type": "code",
      "metadata": {
        "id": "0ZInNLPmXWB8"
      },
      "source": [
        "import random\n",
        "x = int(input(\"No. of Dice: \"))\n",
        "y = int(input(\"No. of rolls: \"))\n",
        "def dice(x,y):\n",
        "    j=0\n",
        "    sample=()\n",
        "    for j in range(y):\n",
        "        i=0\n",
        "        print(\"\\n\")\n",
        "        print(\"( \", end=\"\")\n",
        "        for i in range(x):\n",
        "            print(random.randint(1,6), end=\" \")\n",
        "        print(\")\")\n",
        "         \n",
        "        \n",
        "dice(x,y)"
      ],
      "execution_count": null,
      "outputs": []
    }
  ]
}